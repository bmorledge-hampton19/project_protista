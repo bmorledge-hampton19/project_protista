{
 "cells": [
  {
   "cell_type": "markdown",
   "metadata": {},
   "source": [
    "### Set up data directory, data set names, and external data paths"
   ]
  },
  {
   "cell_type": "code",
   "execution_count": null,
   "metadata": {},
   "outputs": [],
   "source": [
    "import os\n",
    "dataDirectory = os.path.abspath(os.path.join(\"..\",\"..\",\"data\", \"okita\", \"main_seCLIP_analysis\"))\n",
    "bindingProteins = [\"RBP_A\", \"RBP_I\", \"RBP_J\", \"RBP_K\"]\n",
    "repsByProtein = {\"RBP_A\" : [\"rep1\", \"rep2\", \"rep3\"],\n",
    "                 \"RBP_I\" : [\"rep1\", \"rep2\", \"rep3_combined\"],\n",
    "                 \"RBP_J\" : [\"rep1_combined\", \"rep2\", \"rep3_combined\"],\n",
    "                 \"RBP_K\" : [\"rep1\", \"rep2\", \"rep3\"]}\n",
    "\n",
    "annotatedGenesFilePath = os.path.abspath(os.path.join(dataDirectory,\"..\",\"__external_data\",\"all.locus_brief_info.7.0_sorted.tsv\"))\n",
    "exonsFilePath = os.path.abspath(os.path.join(dataDirectory,\"..\",\"__external_data\",\"Osativa7_exons.bed\"))\n",
    "locusSortedExonsFilePath = os.path.abspath(os.path.join(dataDirectory,\"..\",\"__external_data\",\"Osativa7_exons_locus_sorted.bed\"))\n",
    "genomeFastaFilePath = os.path.abspath(os.path.join(dataDirectory,\"..\",\"__external_data\",\"Osativa7.fa\"))"
   ]
  },
  {
   "cell_type": "markdown",
   "metadata": {},
   "source": [
    "### Annotate Peaks\n",
    "Note: Make sure all seCLIP .narrowPeak files have their headers removed and are sorted before running this step!"
   ]
  },
  {
   "cell_type": "code",
   "execution_count": null,
   "metadata": {},
   "outputs": [],
   "source": [
    "from AnnotatePeaks import annotatePeaks\n",
    "for bindingProtein in bindingProteins:\n",
    "    for rep in repsByProtein[bindingProtein]:\n",
    "        annotatePeaks([os.path.join(dataDirectory,bindingProtein,f\"{bindingProtein}_{rep}.narrowPeak\")],\n",
    "                      annotatedGenesFilePath, exonsFilePath, genomeFastaFilePath, True)"
   ]
  },
  {
   "cell_type": "markdown",
   "metadata": {},
   "source": [
    "### Combine adjacent peaks"
   ]
  },
  {
   "cell_type": "code",
   "execution_count": null,
   "metadata": {},
   "outputs": [],
   "source": [
    "from CombineAdjacentPeaks import combineAdjacentPeaks\n",
    "fullAnnotationFilePaths = list()\n",
    "for bindingProtein in bindingProteins:\n",
    "    for rep in repsByProtein[bindingProtein]:\n",
    "        fullAnnotationFilePaths.append(\n",
    "            os.path.join(dataDirectory, bindingProtein, f\"{bindingProtein}_{rep}_full_annotation.bed\")\n",
    "        )\n",
    "combineAdjacentPeaks(fullAnnotationFilePaths, locusSortedExonsFilePath, 10, 1)"
   ]
  },
  {
   "cell_type": "markdown",
   "metadata": {},
   "source": [
    "### Find common loci between repetitions"
   ]
  },
  {
   "cell_type": "code",
   "execution_count": null,
   "metadata": {},
   "outputs": [],
   "source": [
    "from FindCommonLoci import findCommonLoci\n",
    "for bindingProtein in bindingProteins:\n",
    "    fullAnnotationFilePaths = list()\n",
    "    for rep in repsByProtein[bindingProtein]:\n",
    "        fullAnnotationFilePaths.append(\n",
    "            os.path.join(dataDirectory, bindingProtein, f\"{bindingProtein}_{rep}_full_annotation.bed\")\n",
    "        )\n",
    "    findCommonLoci(fullAnnotationFilePaths, os.path.join(dataDirectory, bindingProtein, f\"{bindingProtein}_common_loci.tsv\"))"
   ]
  },
  {
   "cell_type": "markdown",
   "metadata": {},
   "source": [
    "#### (Maybe pool common loci here later...)"
   ]
  },
  {
   "cell_type": "markdown",
   "metadata": {},
   "source": [
    "### Use the common loci file to format read sequences for STREME"
   ]
  },
  {
   "cell_type": "code",
   "execution_count": null,
   "metadata": {},
   "outputs": [],
   "source": [
    "from FormatReadSequencesForSTREME import formatReadSequencesForSTREME\n",
    "for bindingProtein in bindingProteins:\n",
    "    fullAnnotationFilePaths = list()\n",
    "    fullAnnotationCombinedFilePaths = list()\n",
    "    for rep in repsByProtein[bindingProtein]:\n",
    "        fullAnnotationFilePaths.append(\n",
    "            os.path.join(dataDirectory, bindingProtein, f\"{bindingProtein}_{rep}_full_annotation.bed\")\n",
    "        )\n",
    "        fullAnnotationCombinedFilePaths.append(\n",
    "            os.path.join(dataDirectory, bindingProtein, f\"{bindingProtein}_{rep}_full_annotation_combined.bed\")\n",
    "        )\n",
    "    # Only filter on common loci in at least 2 files.\n",
    "    formatReadSequencesForSTREME(\n",
    "        fullAnnotationFilePaths, os.path.join(dataDirectory, bindingProtein, f\"{bindingProtein}_STREME_input_minimal_filtering.fa\"),\n",
    "        genomeFastaFilePath, os.path.join(dataDirectory, bindingProtein, f\"{bindingProtein}_common_loci.tsv\"), 2\n",
    "    )\n",
    "    # Filter on common loci in at least 2 files and sequences <= 50 base pairs. Also expand sequences under 20 base pairs.\n",
    "    formatReadSequencesForSTREME(\n",
    "        fullAnnotationFilePaths, os.path.join(dataDirectory, bindingProtein, f\"{bindingProtein}_STREME_input_20-50bp.fa\"),\n",
    "        genomeFastaFilePath, os.path.join(dataDirectory, bindingProtein, f\"{bindingProtein}_common_loci.tsv\"), 2, 50, 20\n",
    "    )\n",
    "    # Filter on common loci in at least 2 files. Also expand sequences under 20 base pairs.\n",
    "    formatReadSequencesForSTREME(\n",
    "        fullAnnotationFilePaths, os.path.join(dataDirectory, bindingProtein, f\"{bindingProtein}_STREME_input_20bp_min.fa\"),\n",
    "        genomeFastaFilePath, os.path.join(dataDirectory, bindingProtein, f\"{bindingProtein}_common_loci.tsv\"), 2,\n",
    "        minSequenceLength=20\n",
    "    )\n",
    "    # Use combined peaks. Filter on common loci in at least 2 files.\n",
    "    # Call peaks from the 3' end, expanded 30 bp in the 5' direction and 10 bp in the 3' direction.\n",
    "    # (Parameters based on relative positions of known prolamine binding motifs)\n",
    "    formatReadSequencesForSTREME(\n",
    "        fullAnnotationCombinedFilePaths,\n",
    "        os.path.join(dataDirectory, bindingProtein,f\"{bindingProtein}_STREME_input_based_on_known_motif.fa\"),\n",
    "        genomeFastaFilePath, os.path.join(dataDirectory, bindingProtein, f\"{bindingProtein}_common_loci.tsv\"), 2,\n",
    "        callFromThreePrimeEnd = True, fivePrimeExtension = 30, threePrimeExtension = 10\n",
    "    )"
   ]
  }
 ],
 "metadata": {
  "kernelspec": {
   "display_name": "Python 3",
   "language": "python",
   "name": "python3"
  },
  "language_info": {
   "codemirror_mode": {
    "name": "ipython",
    "version": 3
   },
   "file_extension": ".py",
   "mimetype": "text/x-python",
   "name": "python",
   "nbconvert_exporter": "python",
   "pygments_lexer": "ipython3",
   "version": "3.8.10"
  },
  "orig_nbformat": 4
 },
 "nbformat": 4,
 "nbformat_minor": 2
}

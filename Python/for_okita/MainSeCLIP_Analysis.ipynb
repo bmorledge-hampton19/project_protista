{
 "cells": [
  {
   "cell_type": "markdown",
   "metadata": {},
   "source": [
    "### Prerequisites:\n",
    "The benbiohelpers package, which can be found here: https://github.com/bmorledge-hampton19/benbiohelpers\n",
    "To install, download the repository and navigate to the benbiohelpers/python directory in the terminal. Then, run the command `pip install ./`.\n",
    "\n",
    "The bedtools package. This can be installed using apt in the terminal with the following command: `sudo apt install bedtools`"
   ]
  },
  {
   "cell_type": "markdown",
   "metadata": {},
   "source": [
    "### Set up data directory, data set names, and external data paths\n",
    "\n",
    "This code establishes names and locations for the relevant data sets. All paths are defined relative to the directory containing the notebook."
   ]
  },
  {
   "cell_type": "code",
   "execution_count": null,
   "metadata": {},
   "outputs": [],
   "source": [
    "import os\n",
    "# Define the relative path to the data directory containing the relevant input narrow peak files.\n",
    "dataDirectory = os.path.abspath(os.path.join(\"..\",\"..\",\"data\", \"okita\", \"main_seCLIP_analysis\"))\n",
    "\n",
    "# Each binding protein should have its own directory at {dataDirectory}/{binding_protein_name}. This directory should contain\n",
    "# input narrow peak files named in the following style: {binding_protein_name}_{repetition}.narrowPeak.\n",
    "# Define the relevant binding protein names and their associated repetitions below.\n",
    "bindingProteins = [\"RBP_A\", \"RBP_I\", \"RBP_J\", \"RBP_K\"]\n",
    "repsByProtein = {\"RBP_A\" : [\"rep1\", \"rep2\", \"rep3\"],\n",
    "                 \"RBP_I\" : [\"rep1\", \"rep2\", \"rep3_combined\"],\n",
    "                 \"RBP_J\" : [\"rep1_combined\", \"rep2\", \"rep3_combined\"],\n",
    "                 \"RBP_K\" : [\"rep1\", \"rep2\", \"rep3\"]}\n",
    "\n",
    "# The following lines define paths to external data that should be the same for every analysis.\n",
    "annotatedGenesFilePath = os.path.abspath(os.path.join(dataDirectory,\"..\",\"__external_data\",\"all.locus_brief_info.7.0_sorted.tsv\"))\n",
    "exonsFilePath = os.path.abspath(os.path.join(dataDirectory,\"..\",\"__external_data\",\"Osativa7_exons.bed\"))\n",
    "locusSortedExonsFilePath = os.path.abspath(os.path.join(dataDirectory,\"..\",\"__external_data\",\"Osativa7_exons_locus_sorted.bed\"))\n",
    "genomeFastaFilePath = os.path.abspath(os.path.join(dataDirectory,\"..\",\"__external_data\",\"Osativa7.fa\"))"
   ]
  },
  {
   "cell_type": "markdown",
   "metadata": {},
   "source": [
    "### Annotate Peaks\n",
    "This code adds information on what gene(s) each peak is associated and also filters out any insignificant peaks.\n",
    "\n",
    "Note: Make sure all seCLIP .narrowPeak files have their headers removed and are sorted (first on chromosome, then on start and end position, numerically) before running this step! Sorting can be achieved with the following terminal command:  \n",
    "`sort -k1,1 -k2,2n -k3,3n -s -o path/to/file path/to/file`"
   ]
  },
  {
   "cell_type": "code",
   "execution_count": null,
   "metadata": {},
   "outputs": [],
   "source": [
    "from AnnotatePeaks import annotatePeaks\n",
    "for bindingProtein in bindingProteins:\n",
    "    for rep in repsByProtein[bindingProtein]:\n",
    "        annotatePeaks([os.path.join(dataDirectory,bindingProtein,f\"{bindingProtein}_{rep}.narrowPeak\")],\n",
    "                      annotatedGenesFilePath, exonsFilePath, genomeFastaFilePath, True)"
   ]
  },
  {
   "cell_type": "markdown",
   "metadata": {},
   "source": [
    "### Combine adjacent peaks\n",
    "\n",
    "This code combines adjacent peaks, including those separated by exon boundaries."
   ]
  },
  {
   "cell_type": "code",
   "execution_count": null,
   "metadata": {},
   "outputs": [],
   "source": [
    "from CombineAdjacentPeaks import combineAdjacentPeaks\n",
    "fullAnnotationFilePaths = list()\n",
    "for bindingProtein in bindingProteins:\n",
    "    for rep in repsByProtein[bindingProtein]:\n",
    "        fullAnnotationFilePaths.append(\n",
    "            os.path.join(dataDirectory, bindingProtein, f\"{bindingProtein}_{rep}_full_annotation.bed\")\n",
    "        )\n",
    "combineAdjacentPeaks(fullAnnotationFilePaths, locusSortedExonsFilePath, 10, 1)"
   ]
  },
  {
   "cell_type": "markdown",
   "metadata": {},
   "source": [
    "### Find common loci between repetitions\n",
    "\n",
    "This code creates a table of genomic loci containing peaks and records the number or repetitions containing peaks in each loci."
   ]
  },
  {
   "cell_type": "code",
   "execution_count": null,
   "metadata": {},
   "outputs": [],
   "source": [
    "from FindCommonLoci import findCommonLoci\n",
    "for bindingProtein in bindingProteins:\n",
    "    fullAnnotationFilePaths = list()\n",
    "    for rep in repsByProtein[bindingProtein]:\n",
    "        fullAnnotationFilePaths.append(\n",
    "            os.path.join(dataDirectory, bindingProtein, f\"{bindingProtein}_{rep}_full_annotation.bed\")\n",
    "        )\n",
    "    findCommonLoci(fullAnnotationFilePaths, os.path.join(dataDirectory, bindingProtein, f\"{bindingProtein}_common_loci.tsv\"))"
   ]
  },
  {
   "cell_type": "markdown",
   "metadata": {},
   "source": [
    "### Pool common loci (optional)\n",
    "\n",
    "This code can be modified to return loci across multiple binding proteins that have peaks in a minimum number of replicates.\n",
    "E.g., which loci occur in at least 2 RBP_A replicates and 2 RBP_I replicates."
   ]
  },
  {
   "cell_type": "code",
   "execution_count": null,
   "metadata": {},
   "outputs": [],
   "source": [
    "from PoolCommonLoci import poolCommonLoci\n",
    "\n",
    "RBP_A_CommonLociFilePath = os.path.join(dataDirectory, \"RBP_A\", \"RBP_A_common_loci.tsv\")\n",
    "RBP_I_CommonLociFilePath = os.path.join(dataDirectory, \"RBP_I\", \"RBP_I_common_loci.tsv\")\n",
    "\n",
    "poolCommonLoci([RBP_A_CommonLociFilePath, RBP_I_CommonLociFilePath],\n",
    "               os.path.join(dataDirectory, \"RBP_A_RBP_I_min_2_reps_pooled_common_loci_min_2_reps.tsv\"),\n",
    "               minimumReplicates = 2, omitSingleDataSetLoci = True)"
   ]
  },
  {
   "cell_type": "markdown",
   "metadata": {},
   "source": [
    "### Use the common loci file to format read sequences for STREME\n",
    "\n",
    "This code uses the common loci file and annotated peaks file to retrieve sequences for analysis in STREME (or other motif callers).\n",
    "A variety of parameters are available for filtering/modifying sequences. See examples below.\n"
   ]
  },
  {
   "cell_type": "code",
   "execution_count": null,
   "metadata": {},
   "outputs": [],
   "source": [
    "from FormatReadSequencesForSTREME import formatReadSequencesForSTREME\n",
    "for bindingProtein in bindingProteins:\n",
    "    # Retrieve annotated peaks file paths.\n",
    "    fullAnnotationFilePaths = list()\n",
    "    fullAnnotationCombinedFilePaths = list()\n",
    "    for rep in repsByProtein[bindingProtein]:\n",
    "        fullAnnotationFilePaths.append(\n",
    "            os.path.join(dataDirectory, bindingProtein, f\"{bindingProtein}_{rep}_full_annotation.bed\")\n",
    "        )\n",
    "        fullAnnotationCombinedFilePaths.append(\n",
    "            os.path.join(dataDirectory, bindingProtein, f\"{bindingProtein}_{rep}_full_annotation_combined.bed\")\n",
    "        )\n",
    "\n",
    "    # Only filter on common loci in at least 2 files.\n",
    "    formatReadSequencesForSTREME(\n",
    "        fullAnnotationFilePaths, os.path.join(dataDirectory, bindingProtein, f\"{bindingProtein}_STREME_input_minimal_filtering.fa\"),\n",
    "        genomeFastaFilePath, os.path.join(dataDirectory, bindingProtein, f\"{bindingProtein}_common_loci.tsv\"), 2\n",
    "    )\n",
    "\n",
    "    # Filter on common loci in at least 2 files and sequences <= 50 base pairs. Also expand sequences under 20 base pairs.\n",
    "    formatReadSequencesForSTREME(\n",
    "        fullAnnotationFilePaths, os.path.join(dataDirectory, bindingProtein, f\"{bindingProtein}_STREME_input_20-50bp.fa\"),\n",
    "        genomeFastaFilePath, os.path.join(dataDirectory, bindingProtein, f\"{bindingProtein}_common_loci.tsv\"), 2, 50, 20\n",
    "    )\n",
    "\n",
    "    # Filter on common loci in at least 2 files. Also expand sequences under 20 base pairs.\n",
    "    formatReadSequencesForSTREME(\n",
    "        fullAnnotationFilePaths, os.path.join(dataDirectory, bindingProtein, f\"{bindingProtein}_STREME_input_20bp_min.fa\"),\n",
    "        genomeFastaFilePath, os.path.join(dataDirectory, bindingProtein, f\"{bindingProtein}_common_loci.tsv\"), 2,\n",
    "        minSequenceLength=20\n",
    "    )\n",
    "\n",
    "    # Use combined peaks. Filter on common loci in at least 2 files.\n",
    "    # Call peaks from the 3' end, expanded 25 bp in the 5' direction and 25 bp in the 3' direction.\n",
    "    # (Parameters based on relative positions of known prolamine binding motifs)\n",
    "    formatReadSequencesForSTREME(\n",
    "        fullAnnotationCombinedFilePaths,\n",
    "        os.path.join(dataDirectory, bindingProtein,f\"{bindingProtein}_STREME_input_combined_peaks_based_on_known_motif.fa\"),\n",
    "        genomeFastaFilePath, os.path.join(dataDirectory, bindingProtein, f\"{bindingProtein}_common_loci.tsv\"), 2,\n",
    "        callFromThreePrimeEnd = True, fivePrimeExtension = 25, threePrimeExtension = 25\n",
    "    )\n",
    "\n",
    "    # Use non-combined peaks. Filter on common loci in at least 2 files.\n",
    "    # Call peaks from the 3' end, expanded 25 bp in the 5' direction and 25 bp in the 3' direction.\n",
    "    # (Parameters based on relative positions of known prolamine binding motifs)\n",
    "    formatReadSequencesForSTREME(\n",
    "        fullAnnotationFilePaths,\n",
    "        os.path.join(dataDirectory, bindingProtein,f\"{bindingProtein}_STREME_input_separate_peaks_based_on_known_motif.fa\"),\n",
    "        genomeFastaFilePath, os.path.join(dataDirectory, bindingProtein, f\"{bindingProtein}_common_loci.tsv\"), 2,\n",
    "        callFromThreePrimeEnd = True, fivePrimeExtension = 25, threePrimeExtension = 25\n",
    "    )"
   ]
  }
 ],
 "metadata": {
  "kernelspec": {
   "display_name": "Python 3",
   "language": "python",
   "name": "python3"
  },
  "language_info": {
   "codemirror_mode": {
    "name": "ipython",
    "version": 3
   },
   "file_extension": ".py",
   "mimetype": "text/x-python",
   "name": "python",
   "nbconvert_exporter": "python",
   "pygments_lexer": "ipython3",
   "version": "3.8.10"
  },
  "orig_nbformat": 4
 },
 "nbformat": 4,
 "nbformat_minor": 2
}

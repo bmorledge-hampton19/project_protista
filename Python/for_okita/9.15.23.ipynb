{
 "cells": [
  {
   "cell_type": "markdown",
   "metadata": {},
   "source": [
    "# 9.15.23 Analysis"
   ]
  },
  {
   "cell_type": "code",
   "execution_count": 3,
   "metadata": {},
   "outputs": [],
   "source": [
    "import os\n",
    "dataDirectory = os.path.abspath(os.path.join(\"..\",\"..\",\"data\", \"okita\", \"8.14.2023\"))\n",
    "pairedDataSetNames = [(f\"RBP_{letter}_wild_type\",f\"RFP_{letter}_transgenic\") for letter in ('A','I','J','K')]"
   ]
  },
  {
   "cell_type": "markdown",
   "metadata": {},
   "source": [
    "### Pool Common Loci Analysis\n",
    "Pooling common loci between corresponding wild type and transgenic data sets using the following cutoffs (Each producing its own output):\n",
    "1. All loci are pooled\n",
    "2. All loci are pooled for wild type data sets, but only loci in at least 2 replicates are pooled for transgenic data sets."
   ]
  },
  {
   "cell_type": "code",
   "execution_count": 4,
   "metadata": {},
   "outputs": [
    {
     "name": "stdout",
     "output_type": "stream",
     "text": [
      "Documenting loci in RBP_A_wild_type...\n",
      "Documenting loci in RFP_A_transgenic...\n",
      "Writing results...\n",
      "Documenting loci in RBP_A_wild_type...\n",
      "Documenting loci in RFP_A_transgenic...\n",
      "Writing results...\n",
      "Documenting loci in RBP_I_wild_type_combined...\n",
      "Documenting loci in RFP_I_transgenic...\n",
      "Writing results...\n",
      "Documenting loci in RBP_I_wild_type_combined...\n",
      "Documenting loci in RFP_I_transgenic...\n",
      "Writing results...\n",
      "Documenting loci in RBP_J_wild_type_combined...\n",
      "Documenting loci in RFP_J_transgenic...\n",
      "Writing results...\n",
      "Documenting loci in RBP_J_wild_type_combined...\n",
      "Documenting loci in RFP_J_transgenic...\n",
      "Writing results...\n",
      "Documenting loci in RBP_K_wild_type...\n",
      "Documenting loci in RFP_K_transgenic...\n",
      "Writing results...\n",
      "Documenting loci in RBP_K_wild_type...\n",
      "Documenting loci in RFP_K_transgenic...\n",
      "Writing results...\n"
     ]
    }
   ],
   "source": [
    "from PoolCommonLoci import poolCommonLoci\n",
    "for wildTypeDataSet, transgenicDataSet in pairedDataSetNames:\n",
    "\n",
    "    if wildTypeDataSet == \"RBP_I_wild_type\" or wildTypeDataSet == \"RBP_J_wild_type\":\n",
    "        wildTypeSpecificFileName = wildTypeDataSet.replace(\"wild_type\",\"wild_type_combined\")\n",
    "    else: wildTypeSpecificFileName = wildTypeDataSet\n",
    "    commonLociFilePaths = [os.path.join(dataDirectory,wildTypeDataSet,wildTypeSpecificFileName+\"_common_loci.tsv\"),\n",
    "                           os.path.join(dataDirectory,transgenicDataSet,transgenicDataSet+\"_common_loci.tsv\")]\n",
    "\n",
    "    poolCommonLoci(commonLociFilePaths,\n",
    "                   os.path.join(dataDirectory,\n",
    "                                f\"{wildTypeSpecificFileName}_{transgenicDataSet}_pooled_common_loci_min_1_rep.tsv\"),\n",
    "                   1, True)\n",
    "    poolCommonLoci(commonLociFilePaths,\n",
    "                   os.path.join(dataDirectory,\n",
    "                                f\"{wildTypeSpecificFileName}_min_1_rep_{transgenicDataSet}_min_2_reps_pooled_common_loci.tsv\"),\n",
    "                   None, True, {commonLociFilePaths[0]:1,commonLociFilePaths[1]:2})"
   ]
  }
 ],
 "metadata": {
  "kernelspec": {
   "display_name": "Python 3",
   "language": "python",
   "name": "python3"
  },
  "language_info": {
   "codemirror_mode": {
    "name": "ipython",
    "version": 3
   },
   "file_extension": ".py",
   "mimetype": "text/x-python",
   "name": "python",
   "nbconvert_exporter": "python",
   "pygments_lexer": "ipython3",
   "version": "3.8.10"
  },
  "orig_nbformat": 4
 },
 "nbformat": 4,
 "nbformat_minor": 2
}

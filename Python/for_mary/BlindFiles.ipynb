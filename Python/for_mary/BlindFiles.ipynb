{
 "cells": [
  {
   "cell_type": "markdown",
   "metadata": {},
   "source": [
    "## Hi Mary! The cell below serves as an example of how to call the function"
   ]
  },
  {
   "cell_type": "code",
   "execution_count": 2,
   "metadata": {},
   "outputs": [],
   "source": [
    "# Import the function from the BlindFiles.py script.\n",
    "# NOTE: This notebook and the BlindFiles.py script MUST be in the same folder.\n",
    "from BlindFiles import blindFiles\n",
    "\n",
    "# Call the function with the directory that you want to blind.\n",
    "blindFiles(\"/mnt/c/Bioinformatics_Projects/project_protista/data/mary/control irisin\")\n",
    "\n",
    "# Optionally, include an expected file ending. (.TIF is the default.)\n",
    "blindFiles(\"/mnt/c/Bioinformatics_Projects/project_protista/data/mary/control irisin\", \".TIF\")"
   ]
  }
 ],
 "metadata": {
  "kernelspec": {
   "display_name": "Python 3",
   "language": "python",
   "name": "python3"
  },
  "language_info": {
   "codemirror_mode": {
    "name": "ipython",
    "version": 3
   },
   "file_extension": ".py",
   "mimetype": "text/x-python",
   "name": "python",
   "nbconvert_exporter": "python",
   "pygments_lexer": "ipython3",
   "version": "3.8.10"
  }
 },
 "nbformat": 4,
 "nbformat_minor": 2
}

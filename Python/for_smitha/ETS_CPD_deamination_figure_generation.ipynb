{
 "cells": [
  {
   "cell_type": "code",
   "execution_count": null,
   "metadata": {},
   "outputs": [],
   "source": [
    "import os\n",
    "from pandas import read_table\n",
    "from mutperiodpy.helper_scripts.UsefulFileSystemFunctions import getExternalDataDirectory as getMutperiodExternalDataDirectory\n",
    "from bpde_chromatin_analysis.PlottingFunctions import plotSingleFeature\n",
    "\n",
    "mutperiodHg19Directory = os.path.join(getMutperiodExternalDataDirectory(),\"hg19\")\n",
    "projectDataDir = os.path.abspath(\"../data/ETS_CPD_deamination\")\n",
    "figureOutputDir = os.path.abspath(\"../data/ETS_CPD_deamination/figures\")\n",
    "timepoints = [\"1h\", \"8h\", \"24h\", \"48h\"]\n",
    "tfbsNames = [\"hg19_ETS_known_DHS\", \"hg19_ETS_known_non_DHS\"]\n",
    "tfbsAliases = {\"hg19_ETS_known_DHS\":\"ETS_known_DHS\", \"hg19_ETS_known_non_DHS\":\"ETS_known_non_DHS\"}"
   ]
  },
  {
   "cell_type": "code",
   "execution_count": null,
   "metadata": {},
   "outputs": [],
   "source": [
    "tfbsRelativeCounts = {}\n",
    "for timepoint in timepoints:\n",
    "    for tfbsName in tfbsNames:\n",
    "\n",
    "        tfbsRelativeCountsFilePath = os.path.join(projectDataDir, f\"NHF1_CPD_{timepoint}_all_reps_all_cytosine_deamination_TGG_filtered\", tfbsName,\n",
    "                                                  f\"NHF1_CPD_{timepoint}_all_reps_all_cytosine_deamination_TGG_filtered_{tfbsAliases[tfbsName]}_nuc-group_raw_nucleosome_mutation_counts.tsv\")\n",
    "\n",
    "        tfbsRelativeCounts[(timepoint,tfbsName)] = read_table(tfbsRelativeCountsFilePath)"
   ]
  },
  {
   "cell_type": "code",
   "execution_count": null,
   "metadata": {},
   "outputs": [],
   "source": [
    "for timepoint in timepoints:\n",
    "    for tfbsName in tfbsNames:\n",
    "        plot = plotSingleFeature(tfbsRelativeCounts[(timepoint,tfbsName)], \"Both_Strands_Counts\", f\"{timepoint}_deamination_{tfbsAliases[tfbsName]}\", \"Position Relative to ETS1 Midpoint\",\n",
    "                                 \"Deaminated Cytosines Counts\", xlim = (-100,100), smoothData = False, overlaySmoothedAndNormal = False)\n",
    "        plot.show()\n",
    "        plot.save(os.path.join(figureOutputDir,f\"{timepoint}_deamination_{tfbsAliases[tfbsName]}\"), dpi = 300)\n"
   ]
  }
 ],
 "metadata": {
  "kernelspec": {
   "display_name": "Python 3",
   "language": "python",
   "name": "python3"
  },
  "language_info": {
   "codemirror_mode": {
    "name": "ipython",
    "version": 3
   },
   "file_extension": ".py",
   "mimetype": "text/x-python",
   "name": "python",
   "nbconvert_exporter": "python",
   "pygments_lexer": "ipython3",
   "version": "3.10.12"
  }
 },
 "nbformat": 4,
 "nbformat_minor": 2
}

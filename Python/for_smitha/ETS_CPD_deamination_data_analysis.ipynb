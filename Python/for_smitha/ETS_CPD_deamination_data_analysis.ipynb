{
 "cells": [
  {
   "cell_type": "markdown",
   "metadata": {},
   "source": [
    "### Set up pipeline with basic imports, data directories, and file basenames."
   ]
  },
  {
   "cell_type": "code",
   "execution_count": null,
   "metadata": {},
   "outputs": [],
   "source": [
    "import os\n",
    "from benbiohelpers.DataPipelineManagement.GenomeManager import getGenomeFastaFilePath\n",
    "from mutperiodpy.helper_scripts.UsefulFileSystemFunctions import getExternalDataDirectory as getMutperiodExternalDataDirectory\n",
    "\n",
    "hg19FastaFilePath = getGenomeFastaFilePath(\"hg19\")\n",
    "mutperiodHg19Directory = getMutperiodExternalDataDirectory()\n",
    "projectDataDir = os.path.abspath(\"../data/ETS_CPD_deamination\")\n",
    "timepoints = [\"1h\", \"8h\", \"24h\", \"48h\"]"
   ]
  },
  {
   "cell_type": "markdown",
   "metadata": {},
   "source": [
    "### Parse the mutation data for mutperiod input"
   ]
  },
  {
   "cell_type": "code",
   "execution_count": null,
   "metadata": {},
   "outputs": [],
   "source": [
    "from mutperiodpy.input_parsing.ParseStandardBed import parseStandardBed\n",
    "from mutperiodpy.helper_scripts.UsefulFileSystemFunctions import DataTypeStr\n",
    "from benbiohelpers.FileSystemHandling.DirectoryHandling import getFilesInDirectory\n",
    "\n",
    "mutperiodInputFilePaths = []\n",
    "for timepoint in timepoints:\n",
    "    dataDir = os.path.join(projectDataDir, f\"NHF1_CPD_{timepoint}_all_reps_all_cytosine_deamination_TGG_filtered\")\n",
    "    preexistingMutperiodInput = getFilesInDirectory(dataDir, DataTypeStr.mutations + \".bed\", searchRecursively = False)\n",
    "    if preexistingMutperiodInput is None:\n",
    "        print(\"Parsed data not found. Generating...\")\n",
    "        rawInputData = os.path.join(dataDir, f\"NHF1_CPD_{timepoint}_all_reps_C_to_T_CC_to_TT_mismatches_by_read_relation_formatted_TGG_filtered.bed\")\n",
    "        mutperiodInputFilePaths += parseStandardBed([rawInputData], hg19FastaFilePath)\n",
    "    else:\n",
    "        mutperiodInputFilePaths.append(preexistingMutperiodInput)\n",
    "        print(f\"Found parsed data at {preexistingMutperiodInput}. Continuing.\")"
   ]
  },
  {
   "cell_type": "markdown",
   "metadata": {},
   "source": [
    "### Run the mutperiod pipeline to count mutations relative to transcription factor binding sites."
   ]
  },
  {
   "cell_type": "code",
   "execution_count": null,
   "metadata": {},
   "outputs": [],
   "source": [
    "from mutperiodpy.RunAnalysisSuite import runAnalysisSuite\n",
    "\n",
    "TFBS_FilePaths = list()\n",
    "TFBS_FilePaths.append(os.path.join(mutperiodHg19Directory, \"hg19_ETS_known_DHS\", \"hg19_ETS_known_DHS.bed\"))\n",
    "TFBS_FilePaths.append(os.path.join(mutperiodHg19Directory, \"hg19_ETS_known_non_DHS\", \"hg19_ETS_known_non_DHS.bed\"))\n",
    "\n",
    "TFBS_Names = [os.path.basename(TFBS_FilePath).rsplit('.', 1)[0] for TFBS_FilePath in TFBS_FilePaths]\n",
    "\n",
    "runAnalysisSuite(mutperiodInputFilePaths, TFBS_Names, normalizationMethod = \"No Normalization\", customBackgroundDir = None,\n",
    "                 useSingleNucRadius = True, includeLinker = False, useNucGroupRadius = True, useNucStrand = True)"
   ]
  }
 ],
 "metadata": {
  "kernelspec": {
   "display_name": "Python 3",
   "language": "python",
   "name": "python3"
  },
  "language_info": {
   "codemirror_mode": {
    "name": "ipython",
    "version": 3
   },
   "file_extension": ".py",
   "mimetype": "text/x-python",
   "name": "python",
   "nbconvert_exporter": "python",
   "pygments_lexer": "ipython3",
   "version": "3.10.12"
  }
 },
 "nbformat": 4,
 "nbformat_minor": 2
}

{
 "cells": [
  {
   "cell_type": "code",
   "execution_count": null,
   "metadata": {},
   "outputs": [],
   "source": [
    "import os\n",
    "from pandas import read_table\n",
    "from mutperiodpy.GeneratePlotnineFigures import parseAndPlotPeriodicity\n",
    "\n",
    "dataDir = os.path.join(os.path.dirname(os.getcwd()), \"data\", \"Marian_deamination_periodicity_data\")\n",
    "figureOutputDir = os.path.join(dataDir, \"figures\")\n",
    "outputDPI = 500"
   ]
  },
  {
   "cell_type": "code",
   "execution_count": null,
   "metadata": {},
   "outputs": [],
   "source": [
    "sixHourRotationalCounts = read_table(os.path.join(dataDir,\"Marian_6h_deamination_naked_normalized_rotational_counts.tsv\"))"
   ]
  },
  {
   "cell_type": "code",
   "execution_count": null,
   "metadata": {},
   "outputs": [],
   "source": [
    "plot = parseAndPlotPeriodicity(sixHourRotationalCounts, dataCol = \"Naked_Normalized_Counts\",\n",
    "                               title = f\"Marian 6h Deamination Counts\", yAxisLabel = \"Naked Normalized Counts\",\n",
    "                               colorRotationalTransitions = False, ylim = None)\n",
    "plot.show()\n",
    "plot.save(os.path.join(figureOutputDir, \"6h_deamination_minor_groove_coloring.png\"), dpi = outputDPI)"
   ]
  },
  {
   "cell_type": "code",
   "execution_count": null,
   "metadata": {},
   "outputs": [],
   "source": [
    "plot = parseAndPlotPeriodicity(sixHourRotationalCounts, dataCol = \"Naked_Normalized_Counts\",\n",
    "                               title = f\"Marian 6h Deamination Counts\", yAxisLabel = \"Naked Normalized Counts\",\n",
    "                               colorRotationalTransitions = True, ylim = None)\n",
    "plot.show()\n",
    "plot.save(os.path.join(figureOutputDir, \"6h_deamination_backbone_coloring.png\"), dpi = outputDPI)"
   ]
  }
 ],
 "metadata": {
  "kernelspec": {
   "display_name": "Python 3",
   "language": "python",
   "name": "python3"
  },
  "language_info": {
   "codemirror_mode": {
    "name": "ipython",
    "version": 3
   },
   "file_extension": ".py",
   "mimetype": "text/x-python",
   "name": "python",
   "nbconvert_exporter": "python",
   "pygments_lexer": "ipython3",
   "version": "3.10.12"
  }
 },
 "nbformat": 4,
 "nbformat_minor": 2
}
